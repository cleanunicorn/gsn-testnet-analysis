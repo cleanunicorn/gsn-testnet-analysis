{
 "cells": [
  {
   "cell_type": "code",
   "execution_count": 50,
   "id": "5f970e87-1e39-4b9e-bb34-8dd605c18102",
   "metadata": {
    "scrolled": true
   },
   "outputs": [
    {
     "name": "stdout",
     "output_type": "stream",
     "text": [
      "Requirement already satisfied: web3 in ./.venv/lib/python3.13/site-packages (7.11.1)\n",
      "Requirement already satisfied: eth-abi>=5.0.1 in ./.venv/lib/python3.13/site-packages (from web3) (5.2.0)\n",
      "Requirement already satisfied: eth-account>=0.13.6 in ./.venv/lib/python3.13/site-packages (from web3) (0.13.7)\n",
      "Requirement already satisfied: eth-hash>=0.5.1 in ./.venv/lib/python3.13/site-packages (from eth-hash[pycryptodome]>=0.5.1->web3) (0.7.1)\n",
      "Requirement already satisfied: eth-typing>=5.0.0 in ./.venv/lib/python3.13/site-packages (from web3) (5.2.1)\n",
      "Requirement already satisfied: eth-utils>=5.0.0 in ./.venv/lib/python3.13/site-packages (from web3) (5.3.0)\n",
      "Requirement already satisfied: hexbytes>=1.2.0 in ./.venv/lib/python3.13/site-packages (from web3) (1.3.1)\n",
      "Requirement already satisfied: aiohttp>=3.7.4.post0 in ./.venv/lib/python3.13/site-packages (from web3) (3.11.18)\n",
      "Requirement already satisfied: pydantic>=2.4.0 in ./.venv/lib/python3.13/site-packages (from web3) (2.11.4)\n",
      "Requirement already satisfied: requests>=2.23.0 in ./.venv/lib/python3.13/site-packages (from web3) (2.32.3)\n",
      "Requirement already satisfied: typing-extensions>=4.0.1 in ./.venv/lib/python3.13/site-packages (from web3) (4.13.2)\n",
      "Requirement already satisfied: types-requests>=2.0.0 in ./.venv/lib/python3.13/site-packages (from web3) (2.32.0.20250515)\n",
      "Requirement already satisfied: websockets<16.0.0,>=10.0.0 in ./.venv/lib/python3.13/site-packages (from web3) (15.0.1)\n",
      "Requirement already satisfied: pyunormalize>=15.0.0 in ./.venv/lib/python3.13/site-packages (from web3) (16.0.0)\n",
      "Requirement already satisfied: aiohappyeyeballs>=2.3.0 in ./.venv/lib/python3.13/site-packages (from aiohttp>=3.7.4.post0->web3) (2.6.1)\n",
      "Requirement already satisfied: aiosignal>=1.1.2 in ./.venv/lib/python3.13/site-packages (from aiohttp>=3.7.4.post0->web3) (1.3.2)\n",
      "Requirement already satisfied: attrs>=17.3.0 in ./.venv/lib/python3.13/site-packages (from aiohttp>=3.7.4.post0->web3) (25.3.0)\n",
      "Requirement already satisfied: frozenlist>=1.1.1 in ./.venv/lib/python3.13/site-packages (from aiohttp>=3.7.4.post0->web3) (1.6.0)\n",
      "Requirement already satisfied: multidict<7.0,>=4.5 in ./.venv/lib/python3.13/site-packages (from aiohttp>=3.7.4.post0->web3) (6.4.3)\n",
      "Requirement already satisfied: propcache>=0.2.0 in ./.venv/lib/python3.13/site-packages (from aiohttp>=3.7.4.post0->web3) (0.3.1)\n",
      "Requirement already satisfied: yarl<2.0,>=1.17.0 in ./.venv/lib/python3.13/site-packages (from aiohttp>=3.7.4.post0->web3) (1.20.0)\n",
      "Requirement already satisfied: parsimonious<0.11.0,>=0.10.0 in ./.venv/lib/python3.13/site-packages (from eth-abi>=5.0.1->web3) (0.10.0)\n",
      "Requirement already satisfied: bitarray>=2.4.0 in ./.venv/lib/python3.13/site-packages (from eth-account>=0.13.6->web3) (3.4.0)\n",
      "Requirement already satisfied: eth-keyfile<0.9.0,>=0.7.0 in ./.venv/lib/python3.13/site-packages (from eth-account>=0.13.6->web3) (0.8.1)\n",
      "Requirement already satisfied: eth-keys>=0.4.0 in ./.venv/lib/python3.13/site-packages (from eth-account>=0.13.6->web3) (0.7.0)\n",
      "Requirement already satisfied: eth-rlp>=2.1.0 in ./.venv/lib/python3.13/site-packages (from eth-account>=0.13.6->web3) (2.2.0)\n",
      "Requirement already satisfied: rlp>=1.0.0 in ./.venv/lib/python3.13/site-packages (from eth-account>=0.13.6->web3) (4.1.0)\n",
      "Requirement already satisfied: ckzg>=2.0.0 in ./.venv/lib/python3.13/site-packages (from eth-account>=0.13.6->web3) (2.1.1)\n",
      "Requirement already satisfied: pycryptodome<4,>=3.6.6 in ./.venv/lib/python3.13/site-packages (from eth-hash[pycryptodome]>=0.5.1->web3) (3.22.0)\n",
      "Requirement already satisfied: cytoolz>=0.10.1 in ./.venv/lib/python3.13/site-packages (from eth-utils>=5.0.0->web3) (1.0.1)\n",
      "Requirement already satisfied: annotated-types>=0.6.0 in ./.venv/lib/python3.13/site-packages (from pydantic>=2.4.0->web3) (0.7.0)\n",
      "Requirement already satisfied: pydantic-core==2.33.2 in ./.venv/lib/python3.13/site-packages (from pydantic>=2.4.0->web3) (2.33.2)\n",
      "Requirement already satisfied: typing-inspection>=0.4.0 in ./.venv/lib/python3.13/site-packages (from pydantic>=2.4.0->web3) (0.4.0)\n",
      "Requirement already satisfied: charset-normalizer<4,>=2 in ./.venv/lib/python3.13/site-packages (from requests>=2.23.0->web3) (3.4.2)\n",
      "Requirement already satisfied: idna<4,>=2.5 in ./.venv/lib/python3.13/site-packages (from requests>=2.23.0->web3) (3.10)\n",
      "Requirement already satisfied: urllib3<3,>=1.21.1 in ./.venv/lib/python3.13/site-packages (from requests>=2.23.0->web3) (2.4.0)\n",
      "Requirement already satisfied: certifi>=2017.4.17 in ./.venv/lib/python3.13/site-packages (from requests>=2.23.0->web3) (2025.4.26)\n",
      "Requirement already satisfied: toolz>=0.8.0 in ./.venv/lib/python3.13/site-packages (from cytoolz>=0.10.1->eth-utils>=5.0.0->web3) (1.0.0)\n",
      "Requirement already satisfied: regex>=2022.3.15 in ./.venv/lib/python3.13/site-packages (from parsimonious<0.11.0,>=0.10.0->eth-abi>=5.0.1->web3) (2024.11.6)\n",
      "\n",
      "\u001b[1m[\u001b[0m\u001b[34;49mnotice\u001b[0m\u001b[1;39;49m]\u001b[0m\u001b[39;49m A new release of pip is available: \u001b[0m\u001b[31;49m25.0.1\u001b[0m\u001b[39;49m -> \u001b[0m\u001b[32;49m25.1.1\u001b[0m\n",
      "\u001b[1m[\u001b[0m\u001b[34;49mnotice\u001b[0m\u001b[1;39;49m]\u001b[0m\u001b[39;49m To update, run: \u001b[0m\u001b[32;49mpip install --upgrade pip\u001b[0m\n",
      "Note: you may need to restart the kernel to use updated packages.\n"
     ]
    }
   ],
   "source": [
    "%pip install web3"
   ]
  },
  {
   "cell_type": "code",
   "execution_count": 51,
   "id": "79a7bc9b-bbce-43da-ad5a-1cb293b212b4",
   "metadata": {},
   "outputs": [
    {
     "data": {
      "text/plain": [
       "True"
      ]
     },
     "execution_count": 51,
     "metadata": {},
     "output_type": "execute_result"
    }
   ],
   "source": [
    "from web3 import Web3\n",
    "\n",
    "w3 = Web3(Web3.HTTPProvider('https://gensyn-testnet.g.alchemy.com/v2/U_kbGcKPghVKFgYl3tBe_vpVjTxXKK_x'))\n",
    "w3.is_connected()"
   ]
  },
  {
   "cell_type": "code",
   "execution_count": 52,
   "id": "dfa83ab6-76d7-48ce-87c5-c939d3ed8a44",
   "metadata": {},
   "outputs": [
    {
     "data": {
      "text/plain": [
       "AttributeDict({'baseFeePerGas': 1129215106,\n",
       " 'blobGasUsed': 0,\n",
       " 'difficulty': 0,\n",
       " 'excessBlobGas': 0,\n",
       " 'extraData': HexBytes('0x00000000fa00000006'),\n",
       " 'gasLimit': 30000000,\n",
       " 'gasUsed': 3365334,\n",
       " 'hash': HexBytes('0x66caf5d522c9548b089c4695e9a93ff057afdd440747da25b4f0e9871918fba4'),\n",
       " 'logsBloom': HexBytes('0x0400200040040002000000001000000104041000000800000000000001000000000820000000000000000001000000000020000040000000000c0300000002000000000000000000000000000000000080400200c00200000040000000000000240800000008000000000000004000000020a0000200000000080000000000000000000000400004000000000400004000000000040000c4000000000000000000000000000004008040010000000000000200100000000040000200000000200000000000000040000100000000000000000000000001000000000000800000a000008000000000000000000045008000004001008000000006000010000000'),\n",
       " 'miner': '0x4200000000000000000000000000000000000011',\n",
       " 'mixHash': HexBytes('0xc2e0b1c0410f59ff2478c4319eacce9ba8aac6ad4a23ab68ed031c844b3041f9'),\n",
       " 'nonce': HexBytes('0x0000000000000000'),\n",
       " 'number': 2848620,\n",
       " 'parentBeaconBlockRoot': HexBytes('0x7fbbe6822ea5e4568111f5f1d84cf93a17953ef4b14b887a6adb0fc53333699e'),\n",
       " 'parentHash': HexBytes('0xc3623c1cf57ab6afee313b0db7ed2c46b53cf04c6d1b0dbbcd8a9515642019ab'),\n",
       " 'receiptsRoot': HexBytes('0x8e8f54e1b07fd8a507d3219149ff748d18ac8594b59a5b10d25dae161e28d673'),\n",
       " 'sha3Uncles': HexBytes('0x1dcc4de8dec75d7aab85b567b6ccd41ad312451b948a7413f0a142fd40d49347'),\n",
       " 'size': 6893,\n",
       " 'stateRoot': HexBytes('0x8584b386811c5f32de783bd65db36ff896b20c68b48fca62d059a971f8c6822a'),\n",
       " 'timestamp': 1747313844,\n",
       " 'transactions': [AttributeDict({'blockHash': HexBytes('0x66caf5d522c9548b089c4695e9a93ff057afdd440747da25b4f0e9871918fba4'),\n",
       "   'blockNumber': 2848620,\n",
       "   'from': '0xDeaDDEaDDeAdDeAdDEAdDEaddeAddEAdDEAd0001',\n",
       "   'gas': 1000000,\n",
       "   'gasPrice': 0,\n",
       "   'hash': HexBytes('0x944292f664756ce51563f1311513abcea0da3d8d65d2967d431112ea8da1fae2'),\n",
       "   'input': HexBytes('0x440a5e2000000558000c5fc50000000000000001000000006825e46c00000000007f231f00000000000000000000000000000000000000000000000000000002e8f6267f00000000000000000000000000000000000000000000000000000000000000013fb8b1264e37322de3400469a91f9d0563646c38f5869684e10329ccd747004c0000000000000000000000004ea09d8f3fb494a11072ff05b1be2241adceed09'),\n",
       "   'nonce': 2848619,\n",
       "   'to': '0x4200000000000000000000000000000000000015',\n",
       "   'transactionIndex': 0,\n",
       "   'value': 0,\n",
       "   'type': 126,\n",
       "   'v': 0,\n",
       "   'r': HexBytes('0x00'),\n",
       "   's': HexBytes('0x00'),\n",
       "   'sourceHash': '0x39050f4c0af1f152f31b757c01e3463dd843aa56651309faf6f2f1644d14e4bd',\n",
       "   'mint': '0x0',\n",
       "   'depositReceiptVersion': '0x1'}),\n",
       "  AttributeDict({'blockHash': HexBytes('0x66caf5d522c9548b089c4695e9a93ff057afdd440747da25b4f0e9871918fba4'),\n",
       "   'blockNumber': 2848620,\n",
       "   'from': '0xE4c9b43a08c054eF2b0A319AED3D7d4CF879eF49',\n",
       "   'gas': 1596395,\n",
       "   'gasPrice': 1129315106,\n",
       "   'maxFeePerGas': 1428339480,\n",
       "   'maxPriorityFeePerGas': 100000,\n",
       "   'hash': HexBytes('0x2ea563d9ba9cb79652b14a25e1ca5f1fb5b0e7766de859de40260bb4743b4ff2'),\n",
       "   'input': HexBytes('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'),\n",
       "   'nonce': 35718,\n",
       "   'to': '0x0000000071727De22E5E9d8BAf0edAc6f37da032',\n",
       "   'transactionIndex': 1,\n",
       "   'value': 0,\n",
       "   'type': 2,\n",
       "   'accessList': [],\n",
       "   'chainId': 685685,\n",
       "   'v': 0,\n",
       "   'r': HexBytes('0xf7b875a9063936a07bbfbfedc45ca137808af625fd3c333ebd5be7fce51dcb14'),\n",
       "   's': HexBytes('0x57422a9327144a2722f1f6680cc8003b266eda3fc68354f5b000fc1824d1ef93'),\n",
       "   'yParity': 0}),\n",
       "  AttributeDict({'blockHash': HexBytes('0x66caf5d522c9548b089c4695e9a93ff057afdd440747da25b4f0e9871918fba4'),\n",
       "   'blockNumber': 2848620,\n",
       "   'from': '0x6c97FdEE2aC0157A52d1E7EaFB69Aa1828aDB6fa',\n",
       "   'gas': 4146474,\n",
       "   'gasPrice': 1129315106,\n",
       "   'maxFeePerGas': 1428339480,\n",
       "   'maxPriorityFeePerGas': 100000,\n",
       "   'hash': HexBytes('0x9d5facbdcff7d662faf67d7a3ba1469759a0c5cb9a1304252b6f677476b0cc4d'),\n",
       "   'input': HexBytes('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'),\n",
       "   'nonce': 51651,\n",
       "   'to': '0x0000000071727De22E5E9d8BAf0edAc6f37da032',\n",
       "   'transactionIndex': 2,\n",
       "   'value': 0,\n",
       "   'type': 2,\n",
       "   'accessList': [],\n",
       "   'chainId': 685685,\n",
       "   'v': 0,\n",
       "   'r': HexBytes('0xf4c08726180061d66558aaae674b121e44c3bf0f1950f60bcb826146ec2a0ec4'),\n",
       "   's': HexBytes('0x4a182a210a9caba8b93437d9af2dfdccd28c696342afc37662b71ba936b4663a'),\n",
       "   'yParity': 0})],\n",
       " 'transactionsRoot': HexBytes('0x87d0d79ed790a22d63cf8f31934c7011dad68f9a02f81fe44bfb85d6ddea00df'),\n",
       " 'uncles': [],\n",
       " 'withdrawals': [],\n",
       " 'withdrawalsRoot': HexBytes('0x56e81f171bcc55a6ff8345e692c0f86e5b48e01b996cadc001622fb5e363b421')})"
      ]
     },
     "execution_count": 52,
     "metadata": {},
     "output_type": "execute_result"
    }
   ],
   "source": [
    "block = w3.eth.get_block('latest', True)\n",
    "block"
   ]
  },
  {
   "cell_type": "code",
   "execution_count": 53,
   "id": "cd07cb1e-f5fc-43af-a096-e58d53b4d775",
   "metadata": {},
   "outputs": [],
   "source": [
    "def filterTxs(txs):\n",
    "    filteredTxs = []\n",
    "    for tx in txs:\n",
    "        if tx['from'] == '0xDeaDDEaDDeAdDeAdDEAdDEaddeAddEAdDEAd0001':\n",
    "            continue;\n",
    "\n",
    "        filteredTxs.append(tx)\n",
    "\n",
    "    return filteredTxs"
   ]
  },
  {
   "cell_type": "code",
   "execution_count": 54,
   "id": "7b898057-4302-40a0-8f6a-94e7b565625a",
   "metadata": {},
   "outputs": [],
   "source": [
    "def averageFee(txs):\n",
    "    if len(txs) == 0:\n",
    "        return 0\n",
    "        \n",
    "    sum = 0\n",
    "    \n",
    "    for tx in txs:\n",
    "        sum += tx['gasPrice']\n",
    "\n",
    "    return int(sum / len(txs))"
   ]
  },
  {
   "cell_type": "code",
   "execution_count": 55,
   "id": "e030fdd7-ec02-42ee-9b12-41bc8c3e895c",
   "metadata": {},
   "outputs": [
    {
     "data": {
      "text/plain": [
       "100367"
      ]
     },
     "execution_count": 55,
     "metadata": {},
     "output_type": "execute_result"
    }
   ],
   "source": [
    "block = w3.eth.get_block(2707895, True)\n",
    "average = averageFee(filterTxs(block.transactions))\n",
    "average\n",
    "#            1000000000\n",
    "# 2847895 => 2078803780.0\n",
    "# 2707895 => 100367.0"
   ]
  },
  {
   "cell_type": "code",
   "execution_count": 65,
   "id": "ae60bbf5-8c6b-40fc-8c9e-c6839a43cf62",
   "metadata": {},
   "outputs": [
    {
     "name": "stdout",
     "output_type": "stream",
     "text": [
      "Over global average 2714922\n",
      "average = 0.000100929 GWei\n",
      "global EMA = 0.00007724 GWei\n",
      "increase =  30.6693423096841 %\n",
      "---\n",
      "Over global average 2715018\n",
      "average = 0.000213413 GWei\n",
      "global EMA = 0.000134984 GWei\n",
      "increase =  58.102441770876545 %\n",
      "---\n",
      "Over global average 2715137\n",
      "average = 0.000100892 GWei\n",
      "global EMA = 0.000077209 GWei\n",
      "increase =  30.673885168827468 %\n",
      "---\n",
      "Over global average 2715431\n",
      "average = 0.166750775 GWei\n",
      "global EMA = 0.050095882 GWei\n",
      "increase =  232.86323814001318 %\n",
      "---\n",
      "Over global average 2715516\n",
      "average = 0.000100932 GWei\n",
      "global EMA = 0.000069349 GWei\n",
      "increase =  45.54211308021745 %\n",
      "---\n",
      "Over global average 2715521\n",
      "average = 0.000100945 GWei\n",
      "global EMA = 0.000074433 GWei\n",
      "increase =  35.61861002512327 %\n",
      "---\n",
      "Over global average 2715527\n",
      "average = 0.200080756 GWei\n",
      "global EMA = 0.060091769 GWei\n",
      "increase =  232.9586719272651 %\n",
      "---\n",
      "Over global average 2715668\n",
      "average = 0.000100841 GWei\n",
      "global EMA = 0.000077174 GWei\n",
      "increase =  30.667064037110944 %\n",
      "---\n",
      "Over global average 2715705\n",
      "average = 0.000100825 GWei\n",
      "global EMA = 0.000074626 GWei\n",
      "increase =  35.107067241980005 %\n",
      "---\n",
      "Over global average 2716025\n",
      "average = 0.142943431 GWei\n",
      "global EMA = 0.042953498 GWei\n",
      "increase =  232.78647294336773 %\n",
      "---\n",
      "Over global average 2716103\n",
      "average = 0.250075463 GWei\n",
      "global EMA = 0.075093108 GWei\n",
      "increase =  233.02052566528477 %\n",
      "---\n",
      "Over global average 2716289\n",
      "average = 0.083500455 GWei\n",
      "global EMA = 0.025120485 GWei\n",
      "increase =  232.39985215253606 %\n",
      "---\n",
      "Over global average 2716316\n",
      "average = 0.166750404 GWei\n",
      "global EMA = 0.050097104 GWei\n",
      "increase =  232.85437816924508 %\n",
      "---\n",
      "Over global average 2716469\n",
      "average = 0.000100396 GWei\n",
      "global EMA = 0.000072081 GWei\n",
      "increase =  39.28219641791873 %\n",
      "---\n",
      "Over global average 2716478\n",
      "average = 0.166750326 GWei\n",
      "global EMA = 0.050094229 GWei\n",
      "increase =  232.87332558806324 %\n",
      "---\n",
      "Over global average 2716481\n",
      "average = 0.500050195 GWei\n",
      "global EMA = 0.167233218 GWei\n",
      "increase =  199.0136774142563 %\n",
      "---\n",
      "Over global average 2716552\n",
      "average = 0.200080288 GWei\n",
      "global EMA = 0.060094338 GWei\n",
      "increase =  232.943659351069 %\n",
      "---\n",
      "Over global average 2716568\n",
      "average = 0.200080283 GWei\n",
      "global EMA = 0.06029371 GWei\n",
      "increase =  231.84271294634217 %\n",
      "---\n",
      "Over global average 2716604\n",
      "average = 0.000100357 GWei\n",
      "global EMA = 0.000076872 GWei\n",
      "increase =  30.550785721719222 %\n",
      "---\n",
      "Over global average 2716619\n",
      "average = 0.000100357 GWei\n",
      "global EMA = 0.000075627 GWei\n",
      "increase =  32.699961653906676 %\n",
      "---\n",
      "Over global average 2716621\n",
      "average = 0.000100357 GWei\n",
      "global EMA = 0.000067163 GWei\n",
      "increase =  49.42304542679749 %\n",
      "---\n",
      "Over global average 2716624\n",
      "average = 0.000100357 GWei\n",
      "global EMA = 0.000053143 GWei\n",
      "increase =  88.8433095609958 %\n",
      "---\n",
      "Over global average 2716625\n",
      "average = 0.000100358 GWei\n",
      "global EMA = 0.000067307 GWei\n",
      "increase =  49.10484793557877 %\n",
      "---\n",
      "Over global average 2716628\n",
      "average = 0.000100359 GWei\n",
      "global EMA = 0.000067946 GWei\n",
      "increase =  47.70405910576046 %\n",
      "---\n",
      "Over global average 2716681\n",
      "average = 0.000100366 GWei\n",
      "global EMA = 0.000072057 GWei\n",
      "increase =  39.286953384126456 %\n",
      "---\n",
      "Over global average 2716682\n",
      "average = 0.12508782 GWei\n",
      "global EMA = 0.037576785 GWei\n",
      "increase =  232.88590282537476 %\n",
      "---\n"
     ]
    },
    {
     "ename": "KeyboardInterrupt",
     "evalue": "",
     "output_type": "error",
     "traceback": [
      "\u001b[31m---------------------------------------------------------------------------\u001b[39m",
      "\u001b[31mKeyboardInterrupt\u001b[39m                         Traceback (most recent call last)",
      "\u001b[36mCell\u001b[39m\u001b[36m \u001b[39m\u001b[32mIn[65]\u001b[39m\u001b[32m, line 13\u001b[39m\n\u001b[32m     10\u001b[39m alpha = \u001b[32m0.3\u001b[39m\n\u001b[32m     12\u001b[39m \u001b[38;5;28;01mwhile\u001b[39;00m \u001b[38;5;28;01mTrue\u001b[39;00m:\n\u001b[32m---> \u001b[39m\u001b[32m13\u001b[39m     block = \u001b[43mw3\u001b[49m\u001b[43m.\u001b[49m\u001b[43meth\u001b[49m\u001b[43m.\u001b[49m\u001b[43mget_block\u001b[49m\u001b[43m(\u001b[49m\u001b[43mblock_number\u001b[49m\u001b[43m,\u001b[49m\u001b[43m \u001b[49m\u001b[38;5;28;43;01mTrue\u001b[39;49;00m\u001b[43m)\u001b[49m\n\u001b[32m     14\u001b[39m     average = averageFee(filterTxs(block.transactions))\n\u001b[32m     15\u001b[39m     \u001b[38;5;28;01mif\u001b[39;00m average > \u001b[32m1000000000\u001b[39m:\n",
      "\u001b[36mFile \u001b[39m\u001b[32m~/Development/github.com/gensyn-ai/testnet-analytics/.venv/lib/python3.13/site-packages/web3/eth/eth.py:414\u001b[39m, in \u001b[36mEth.get_block\u001b[39m\u001b[34m(self, block_identifier, full_transactions)\u001b[39m\n\u001b[32m    411\u001b[39m \u001b[38;5;28;01mdef\u001b[39;00m\u001b[38;5;250m \u001b[39m\u001b[34mget_block\u001b[39m(\n\u001b[32m    412\u001b[39m     \u001b[38;5;28mself\u001b[39m, block_identifier: BlockIdentifier, full_transactions: \u001b[38;5;28mbool\u001b[39m = \u001b[38;5;28;01mFalse\u001b[39;00m\n\u001b[32m    413\u001b[39m ) -> BlockData:\n\u001b[32m--> \u001b[39m\u001b[32m414\u001b[39m     \u001b[38;5;28;01mreturn\u001b[39;00m \u001b[38;5;28;43mself\u001b[39;49m\u001b[43m.\u001b[49m\u001b[43m_get_block\u001b[49m\u001b[43m(\u001b[49m\u001b[43mblock_identifier\u001b[49m\u001b[43m,\u001b[49m\u001b[43m \u001b[49m\u001b[43mfull_transactions\u001b[49m\u001b[43m)\u001b[49m\n",
      "\u001b[36mFile \u001b[39m\u001b[32m~/Development/github.com/gensyn-ai/testnet-analytics/.venv/lib/python3.13/site-packages/web3/module.py:112\u001b[39m, in \u001b[36mretrieve_blocking_method_call_fn.<locals>.caller\u001b[39m\u001b[34m(*args, **kwargs)\u001b[39m\n\u001b[32m    105\u001b[39m     \u001b[38;5;28;01mreturn\u001b[39;00m LogFilter(eth_module=module, filter_id=err.filter_id)\n\u001b[32m    107\u001b[39m (\n\u001b[32m    108\u001b[39m     result_formatters,\n\u001b[32m    109\u001b[39m     error_formatters,\n\u001b[32m    110\u001b[39m     null_result_formatters,\n\u001b[32m    111\u001b[39m ) = response_formatters\n\u001b[32m--> \u001b[39m\u001b[32m112\u001b[39m result = \u001b[43mw3\u001b[49m\u001b[43m.\u001b[49m\u001b[43mmanager\u001b[49m\u001b[43m.\u001b[49m\u001b[43mrequest_blocking\u001b[49m\u001b[43m(\u001b[49m\n\u001b[32m    113\u001b[39m \u001b[43m    \u001b[49m\u001b[43mmethod_str\u001b[49m\u001b[43m,\u001b[49m\u001b[43m \u001b[49m\u001b[43mparams\u001b[49m\u001b[43m,\u001b[49m\u001b[43m \u001b[49m\u001b[43merror_formatters\u001b[49m\u001b[43m,\u001b[49m\u001b[43m \u001b[49m\u001b[43mnull_result_formatters\u001b[49m\n\u001b[32m    114\u001b[39m \u001b[43m\u001b[49m\u001b[43m)\u001b[49m\n\u001b[32m    115\u001b[39m \u001b[38;5;28;01mreturn\u001b[39;00m apply_result_formatters(result_formatters, result)\n",
      "\u001b[36mFile \u001b[39m\u001b[32m~/Development/github.com/gensyn-ai/testnet-analytics/.venv/lib/python3.13/site-packages/web3/manager.py:231\u001b[39m, in \u001b[36mRequestManager.request_blocking\u001b[39m\u001b[34m(self, method, params, error_formatters, null_result_formatters)\u001b[39m\n\u001b[32m    221\u001b[39m \u001b[38;5;28;01mdef\u001b[39;00m\u001b[38;5;250m \u001b[39m\u001b[34mrequest_blocking\u001b[39m(\n\u001b[32m    222\u001b[39m     \u001b[38;5;28mself\u001b[39m,\n\u001b[32m    223\u001b[39m     method: Union[RPCEndpoint, Callable[..., RPCEndpoint]],\n\u001b[32m   (...)\u001b[39m\u001b[32m    226\u001b[39m     null_result_formatters: Optional[Callable[..., Any]] = \u001b[38;5;28;01mNone\u001b[39;00m,\n\u001b[32m    227\u001b[39m ) -> Any:\n\u001b[32m    228\u001b[39m \u001b[38;5;250m    \u001b[39m\u001b[33;03m\"\"\"\u001b[39;00m\n\u001b[32m    229\u001b[39m \u001b[33;03m    Make a synchronous request using the provider\u001b[39;00m\n\u001b[32m    230\u001b[39m \u001b[33;03m    \"\"\"\u001b[39;00m\n\u001b[32m--> \u001b[39m\u001b[32m231\u001b[39m     response = \u001b[38;5;28;43mself\u001b[39;49m\u001b[43m.\u001b[49m\u001b[43m_make_request\u001b[49m\u001b[43m(\u001b[49m\u001b[43mmethod\u001b[49m\u001b[43m,\u001b[49m\u001b[43m \u001b[49m\u001b[43mparams\u001b[49m\u001b[43m)\u001b[49m\n\u001b[32m    232\u001b[39m     \u001b[38;5;28;01mreturn\u001b[39;00m \u001b[38;5;28mself\u001b[39m.formatted_response(\n\u001b[32m    233\u001b[39m         response, params, error_formatters, null_result_formatters\n\u001b[32m    234\u001b[39m     )\n",
      "\u001b[36mFile \u001b[39m\u001b[32m~/Development/github.com/gensyn-ai/testnet-analytics/.venv/lib/python3.13/site-packages/web3/manager.py:163\u001b[39m, in \u001b[36mRequestManager._make_request\u001b[39m\u001b[34m(self, method, params)\u001b[39m\n\u001b[32m    159\u001b[39m request_func = provider.request_func(\n\u001b[32m    160\u001b[39m     cast(\u001b[33m\"\u001b[39m\u001b[33mWeb3\u001b[39m\u001b[33m\"\u001b[39m, \u001b[38;5;28mself\u001b[39m.w3), cast(\u001b[33m\"\u001b[39m\u001b[33mMiddlewareOnion\u001b[39m\u001b[33m\"\u001b[39m, \u001b[38;5;28mself\u001b[39m.middleware_onion)\n\u001b[32m    161\u001b[39m )\n\u001b[32m    162\u001b[39m \u001b[38;5;28mself\u001b[39m.logger.debug(\u001b[33mf\u001b[39m\u001b[33m\"\u001b[39m\u001b[33mMaking request. Method: \u001b[39m\u001b[38;5;132;01m{\u001b[39;00mmethod\u001b[38;5;132;01m}\u001b[39;00m\u001b[33m\"\u001b[39m)\n\u001b[32m--> \u001b[39m\u001b[32m163\u001b[39m \u001b[38;5;28;01mreturn\u001b[39;00m \u001b[43mrequest_func\u001b[49m\u001b[43m(\u001b[49m\u001b[43mmethod\u001b[49m\u001b[43m,\u001b[49m\u001b[43m \u001b[49m\u001b[43mparams\u001b[49m\u001b[43m)\u001b[49m\n",
      "\u001b[36mFile \u001b[39m\u001b[32m~/Development/github.com/gensyn-ai/testnet-analytics/.venv/lib/python3.13/site-packages/web3/middleware/base.py:56\u001b[39m, in \u001b[36mWeb3Middleware.wrap_make_request.<locals>.middleware\u001b[39m\u001b[34m(method, params)\u001b[39m\n\u001b[32m     54\u001b[39m \u001b[38;5;28;01mdef\u001b[39;00m\u001b[38;5;250m \u001b[39m\u001b[34mmiddleware\u001b[39m(method: \u001b[33m\"\u001b[39m\u001b[33mRPCEndpoint\u001b[39m\u001b[33m\"\u001b[39m, params: Any) -> \u001b[33m\"\u001b[39m\u001b[33mRPCResponse\u001b[39m\u001b[33m\"\u001b[39m:\n\u001b[32m     55\u001b[39m     method, params = \u001b[38;5;28mself\u001b[39m.request_processor(method, params)\n\u001b[32m---> \u001b[39m\u001b[32m56\u001b[39m     \u001b[38;5;28;01mreturn\u001b[39;00m \u001b[38;5;28mself\u001b[39m.response_processor(method, \u001b[43mmake_request\u001b[49m\u001b[43m(\u001b[49m\u001b[43mmethod\u001b[49m\u001b[43m,\u001b[49m\u001b[43m \u001b[49m\u001b[43mparams\u001b[49m\u001b[43m)\u001b[49m)\n",
      "\u001b[36mFile \u001b[39m\u001b[32m~/Development/github.com/gensyn-ai/testnet-analytics/.venv/lib/python3.13/site-packages/web3/middleware/base.py:56\u001b[39m, in \u001b[36mWeb3Middleware.wrap_make_request.<locals>.middleware\u001b[39m\u001b[34m(method, params)\u001b[39m\n\u001b[32m     54\u001b[39m \u001b[38;5;28;01mdef\u001b[39;00m\u001b[38;5;250m \u001b[39m\u001b[34mmiddleware\u001b[39m(method: \u001b[33m\"\u001b[39m\u001b[33mRPCEndpoint\u001b[39m\u001b[33m\"\u001b[39m, params: Any) -> \u001b[33m\"\u001b[39m\u001b[33mRPCResponse\u001b[39m\u001b[33m\"\u001b[39m:\n\u001b[32m     55\u001b[39m     method, params = \u001b[38;5;28mself\u001b[39m.request_processor(method, params)\n\u001b[32m---> \u001b[39m\u001b[32m56\u001b[39m     \u001b[38;5;28;01mreturn\u001b[39;00m \u001b[38;5;28mself\u001b[39m.response_processor(method, \u001b[43mmake_request\u001b[49m\u001b[43m(\u001b[49m\u001b[43mmethod\u001b[49m\u001b[43m,\u001b[49m\u001b[43m \u001b[49m\u001b[43mparams\u001b[49m\u001b[43m)\u001b[49m)\n",
      "    \u001b[31m[... skipping similar frames: Web3Middleware.wrap_make_request.<locals>.middleware at line 56 (2 times)]\u001b[39m\n",
      "\u001b[36mFile \u001b[39m\u001b[32m~/Development/github.com/gensyn-ai/testnet-analytics/.venv/lib/python3.13/site-packages/web3/middleware/base.py:56\u001b[39m, in \u001b[36mWeb3Middleware.wrap_make_request.<locals>.middleware\u001b[39m\u001b[34m(method, params)\u001b[39m\n\u001b[32m     54\u001b[39m \u001b[38;5;28;01mdef\u001b[39;00m\u001b[38;5;250m \u001b[39m\u001b[34mmiddleware\u001b[39m(method: \u001b[33m\"\u001b[39m\u001b[33mRPCEndpoint\u001b[39m\u001b[33m\"\u001b[39m, params: Any) -> \u001b[33m\"\u001b[39m\u001b[33mRPCResponse\u001b[39m\u001b[33m\"\u001b[39m:\n\u001b[32m     55\u001b[39m     method, params = \u001b[38;5;28mself\u001b[39m.request_processor(method, params)\n\u001b[32m---> \u001b[39m\u001b[32m56\u001b[39m     \u001b[38;5;28;01mreturn\u001b[39;00m \u001b[38;5;28mself\u001b[39m.response_processor(method, \u001b[43mmake_request\u001b[49m\u001b[43m(\u001b[49m\u001b[43mmethod\u001b[49m\u001b[43m,\u001b[49m\u001b[43m \u001b[49m\u001b[43mparams\u001b[49m\u001b[43m)\u001b[49m)\n",
      "\u001b[36mFile \u001b[39m\u001b[32m~/Development/github.com/gensyn-ai/testnet-analytics/.venv/lib/python3.13/site-packages/web3/_utils/caching/caching_utils.py:261\u001b[39m, in \u001b[36mhandle_request_caching.<locals>.wrapper\u001b[39m\u001b[34m(provider, method, params)\u001b[39m\n\u001b[32m    259\u001b[39m         \u001b[38;5;28;01mreturn\u001b[39;00m response\n\u001b[32m    260\u001b[39m \u001b[38;5;28;01melse\u001b[39;00m:\n\u001b[32m--> \u001b[39m\u001b[32m261\u001b[39m     \u001b[38;5;28;01mreturn\u001b[39;00m \u001b[43mfunc\u001b[49m\u001b[43m(\u001b[49m\u001b[43mprovider\u001b[49m\u001b[43m,\u001b[49m\u001b[43m \u001b[49m\u001b[43mmethod\u001b[49m\u001b[43m,\u001b[49m\u001b[43m \u001b[49m\u001b[43mparams\u001b[49m\u001b[43m)\u001b[49m\n",
      "\u001b[36mFile \u001b[39m\u001b[32m~/Development/github.com/gensyn-ai/testnet-analytics/.venv/lib/python3.13/site-packages/web3/providers/rpc/rpc.py:170\u001b[39m, in \u001b[36mHTTPProvider.make_request\u001b[39m\u001b[34m(self, method, params)\u001b[39m\n\u001b[32m    166\u001b[39m \u001b[38;5;28mself\u001b[39m.logger.debug(\n\u001b[32m    167\u001b[39m     \u001b[33mf\u001b[39m\u001b[33m\"\u001b[39m\u001b[33mMaking request HTTP. URI: \u001b[39m\u001b[38;5;132;01m{\u001b[39;00m\u001b[38;5;28mself\u001b[39m.endpoint_uri\u001b[38;5;132;01m}\u001b[39;00m\u001b[33m, Method: \u001b[39m\u001b[38;5;132;01m{\u001b[39;00mmethod\u001b[38;5;132;01m}\u001b[39;00m\u001b[33m\"\u001b[39m\n\u001b[32m    168\u001b[39m )\n\u001b[32m    169\u001b[39m request_data = \u001b[38;5;28mself\u001b[39m.encode_rpc_request(method, params)\n\u001b[32m--> \u001b[39m\u001b[32m170\u001b[39m raw_response = \u001b[38;5;28;43mself\u001b[39;49m\u001b[43m.\u001b[49m\u001b[43m_make_request\u001b[49m\u001b[43m(\u001b[49m\u001b[43mmethod\u001b[49m\u001b[43m,\u001b[49m\u001b[43m \u001b[49m\u001b[43mrequest_data\u001b[49m\u001b[43m)\u001b[49m\n\u001b[32m    171\u001b[39m response = \u001b[38;5;28mself\u001b[39m.decode_rpc_response(raw_response)\n\u001b[32m    172\u001b[39m \u001b[38;5;28mself\u001b[39m.logger.debug(\n\u001b[32m    173\u001b[39m     \u001b[33mf\u001b[39m\u001b[33m\"\u001b[39m\u001b[33mGetting response HTTP. URI: \u001b[39m\u001b[38;5;132;01m{\u001b[39;00m\u001b[38;5;28mself\u001b[39m.endpoint_uri\u001b[38;5;132;01m}\u001b[39;00m\u001b[33m, \u001b[39m\u001b[33m\"\u001b[39m\n\u001b[32m    174\u001b[39m     \u001b[33mf\u001b[39m\u001b[33m\"\u001b[39m\u001b[33mMethod: \u001b[39m\u001b[38;5;132;01m{\u001b[39;00mmethod\u001b[38;5;132;01m}\u001b[39;00m\u001b[33m, Response: \u001b[39m\u001b[38;5;132;01m{\u001b[39;00mresponse\u001b[38;5;132;01m}\u001b[39;00m\u001b[33m\"\u001b[39m\n\u001b[32m    175\u001b[39m )\n",
      "\u001b[36mFile \u001b[39m\u001b[32m~/Development/github.com/gensyn-ai/testnet-analytics/.venv/lib/python3.13/site-packages/web3/providers/rpc/rpc.py:147\u001b[39m, in \u001b[36mHTTPProvider._make_request\u001b[39m\u001b[34m(self, method, request_data)\u001b[39m\n\u001b[32m    145\u001b[39m \u001b[38;5;28;01mfor\u001b[39;00m i \u001b[38;5;129;01min\u001b[39;00m \u001b[38;5;28mrange\u001b[39m(\u001b[38;5;28mself\u001b[39m.exception_retry_configuration.retries):\n\u001b[32m    146\u001b[39m     \u001b[38;5;28;01mtry\u001b[39;00m:\n\u001b[32m--> \u001b[39m\u001b[32m147\u001b[39m         \u001b[38;5;28;01mreturn\u001b[39;00m \u001b[38;5;28;43mself\u001b[39;49m\u001b[43m.\u001b[49m\u001b[43m_request_session_manager\u001b[49m\u001b[43m.\u001b[49m\u001b[43mmake_post_request\u001b[49m\u001b[43m(\u001b[49m\n\u001b[32m    148\u001b[39m \u001b[43m            \u001b[49m\u001b[38;5;28;43mself\u001b[39;49m\u001b[43m.\u001b[49m\u001b[43mendpoint_uri\u001b[49m\u001b[43m,\u001b[49m\u001b[43m \u001b[49m\u001b[43mrequest_data\u001b[49m\u001b[43m,\u001b[49m\u001b[43m \u001b[49m\u001b[43m*\u001b[49m\u001b[43m*\u001b[49m\u001b[38;5;28;43mself\u001b[39;49m\u001b[43m.\u001b[49m\u001b[43mget_request_kwargs\u001b[49m\u001b[43m(\u001b[49m\u001b[43m)\u001b[49m\n\u001b[32m    149\u001b[39m \u001b[43m        \u001b[49m\u001b[43m)\u001b[49m\n\u001b[32m    150\u001b[39m     \u001b[38;5;28;01mexcept\u001b[39;00m \u001b[38;5;28mtuple\u001b[39m(\u001b[38;5;28mself\u001b[39m.exception_retry_configuration.errors) \u001b[38;5;28;01mas\u001b[39;00m e:\n\u001b[32m    151\u001b[39m         \u001b[38;5;28;01mif\u001b[39;00m i < \u001b[38;5;28mself\u001b[39m.exception_retry_configuration.retries - \u001b[32m1\u001b[39m:\n",
      "\u001b[36mFile \u001b[39m\u001b[32m~/Development/github.com/gensyn-ai/testnet-analytics/.venv/lib/python3.13/site-packages/web3/_utils/http_session_manager.py:145\u001b[39m, in \u001b[36mHTTPSessionManager.make_post_request\u001b[39m\u001b[34m(self, endpoint_uri, data, **kwargs)\u001b[39m\n\u001b[32m    142\u001b[39m start = time.time()\n\u001b[32m    143\u001b[39m timeout = kwargs[\u001b[33m\"\u001b[39m\u001b[33mtimeout\u001b[39m\u001b[33m\"\u001b[39m]\n\u001b[32m--> \u001b[39m\u001b[32m145\u001b[39m \u001b[38;5;28;01mwith\u001b[39;00m \u001b[38;5;28;43mself\u001b[39;49m\u001b[43m.\u001b[49m\u001b[43mget_response_from_post_request\u001b[49m\u001b[43m(\u001b[49m\n\u001b[32m    146\u001b[39m \u001b[43m    \u001b[49m\u001b[43mendpoint_uri\u001b[49m\u001b[43m,\u001b[49m\u001b[43m \u001b[49m\u001b[43mdata\u001b[49m\u001b[43m=\u001b[49m\u001b[43mdata\u001b[49m\u001b[43m,\u001b[49m\u001b[43m \u001b[49m\u001b[43m*\u001b[49m\u001b[43m*\u001b[49m\u001b[43mkwargs\u001b[49m\n\u001b[32m    147\u001b[39m \u001b[43m\u001b[49m\u001b[43m)\u001b[49m \u001b[38;5;28;01mas\u001b[39;00m response:\n\u001b[32m    148\u001b[39m     response.raise_for_status()\n\u001b[32m    149\u001b[39m     \u001b[38;5;28;01mif\u001b[39;00m kwargs.get(\u001b[33m\"\u001b[39m\u001b[33mstream\u001b[39m\u001b[33m\"\u001b[39m):\n",
      "\u001b[36mFile \u001b[39m\u001b[32m~/Development/github.com/gensyn-ai/testnet-analytics/.venv/lib/python3.13/site-packages/web3/_utils/http_session_manager.py:127\u001b[39m, in \u001b[36mHTTPSessionManager.get_response_from_post_request\u001b[39m\u001b[34m(self, endpoint_uri, *args, **kwargs)\u001b[39m\n\u001b[32m    123\u001b[39m kwargs.setdefault(\u001b[33m\"\u001b[39m\u001b[33mtimeout\u001b[39m\u001b[33m\"\u001b[39m, DEFAULT_HTTP_TIMEOUT)\n\u001b[32m    124\u001b[39m session = \u001b[38;5;28mself\u001b[39m.cache_and_return_session(\n\u001b[32m    125\u001b[39m     endpoint_uri, request_timeout=kwargs[\u001b[33m\"\u001b[39m\u001b[33mtimeout\u001b[39m\u001b[33m\"\u001b[39m]\n\u001b[32m    126\u001b[39m )\n\u001b[32m--> \u001b[39m\u001b[32m127\u001b[39m \u001b[38;5;28;01mreturn\u001b[39;00m \u001b[43msession\u001b[49m\u001b[43m.\u001b[49m\u001b[43mpost\u001b[49m\u001b[43m(\u001b[49m\u001b[43mendpoint_uri\u001b[49m\u001b[43m,\u001b[49m\u001b[43m \u001b[49m\u001b[43m*\u001b[49m\u001b[43margs\u001b[49m\u001b[43m,\u001b[49m\u001b[43m \u001b[49m\u001b[43m*\u001b[49m\u001b[43m*\u001b[49m\u001b[43mkwargs\u001b[49m\u001b[43m)\u001b[49m\n",
      "\u001b[36mFile \u001b[39m\u001b[32m~/Development/github.com/gensyn-ai/testnet-analytics/.venv/lib/python3.13/site-packages/requests/sessions.py:637\u001b[39m, in \u001b[36mSession.post\u001b[39m\u001b[34m(self, url, data, json, **kwargs)\u001b[39m\n\u001b[32m    626\u001b[39m \u001b[38;5;28;01mdef\u001b[39;00m\u001b[38;5;250m \u001b[39m\u001b[34mpost\u001b[39m(\u001b[38;5;28mself\u001b[39m, url, data=\u001b[38;5;28;01mNone\u001b[39;00m, json=\u001b[38;5;28;01mNone\u001b[39;00m, **kwargs):\n\u001b[32m    627\u001b[39m \u001b[38;5;250m    \u001b[39m\u001b[33mr\u001b[39m\u001b[33;03m\"\"\"Sends a POST request. Returns :class:`Response` object.\u001b[39;00m\n\u001b[32m    628\u001b[39m \n\u001b[32m    629\u001b[39m \u001b[33;03m    :param url: URL for the new :class:`Request` object.\u001b[39;00m\n\u001b[32m   (...)\u001b[39m\u001b[32m    634\u001b[39m \u001b[33;03m    :rtype: requests.Response\u001b[39;00m\n\u001b[32m    635\u001b[39m \u001b[33;03m    \"\"\"\u001b[39;00m\n\u001b[32m--> \u001b[39m\u001b[32m637\u001b[39m     \u001b[38;5;28;01mreturn\u001b[39;00m \u001b[38;5;28;43mself\u001b[39;49m\u001b[43m.\u001b[49m\u001b[43mrequest\u001b[49m\u001b[43m(\u001b[49m\u001b[33;43m\"\u001b[39;49m\u001b[33;43mPOST\u001b[39;49m\u001b[33;43m\"\u001b[39;49m\u001b[43m,\u001b[49m\u001b[43m \u001b[49m\u001b[43murl\u001b[49m\u001b[43m,\u001b[49m\u001b[43m \u001b[49m\u001b[43mdata\u001b[49m\u001b[43m=\u001b[49m\u001b[43mdata\u001b[49m\u001b[43m,\u001b[49m\u001b[43m \u001b[49m\u001b[43mjson\u001b[49m\u001b[43m=\u001b[49m\u001b[43mjson\u001b[49m\u001b[43m,\u001b[49m\u001b[43m \u001b[49m\u001b[43m*\u001b[49m\u001b[43m*\u001b[49m\u001b[43mkwargs\u001b[49m\u001b[43m)\u001b[49m\n",
      "\u001b[36mFile \u001b[39m\u001b[32m~/Development/github.com/gensyn-ai/testnet-analytics/.venv/lib/python3.13/site-packages/requests/sessions.py:589\u001b[39m, in \u001b[36mSession.request\u001b[39m\u001b[34m(self, method, url, params, data, headers, cookies, files, auth, timeout, allow_redirects, proxies, hooks, stream, verify, cert, json)\u001b[39m\n\u001b[32m    584\u001b[39m send_kwargs = {\n\u001b[32m    585\u001b[39m     \u001b[33m\"\u001b[39m\u001b[33mtimeout\u001b[39m\u001b[33m\"\u001b[39m: timeout,\n\u001b[32m    586\u001b[39m     \u001b[33m\"\u001b[39m\u001b[33mallow_redirects\u001b[39m\u001b[33m\"\u001b[39m: allow_redirects,\n\u001b[32m    587\u001b[39m }\n\u001b[32m    588\u001b[39m send_kwargs.update(settings)\n\u001b[32m--> \u001b[39m\u001b[32m589\u001b[39m resp = \u001b[38;5;28;43mself\u001b[39;49m\u001b[43m.\u001b[49m\u001b[43msend\u001b[49m\u001b[43m(\u001b[49m\u001b[43mprep\u001b[49m\u001b[43m,\u001b[49m\u001b[43m \u001b[49m\u001b[43m*\u001b[49m\u001b[43m*\u001b[49m\u001b[43msend_kwargs\u001b[49m\u001b[43m)\u001b[49m\n\u001b[32m    591\u001b[39m \u001b[38;5;28;01mreturn\u001b[39;00m resp\n",
      "\u001b[36mFile \u001b[39m\u001b[32m~/Development/github.com/gensyn-ai/testnet-analytics/.venv/lib/python3.13/site-packages/requests/sessions.py:703\u001b[39m, in \u001b[36mSession.send\u001b[39m\u001b[34m(self, request, **kwargs)\u001b[39m\n\u001b[32m    700\u001b[39m start = preferred_clock()\n\u001b[32m    702\u001b[39m \u001b[38;5;66;03m# Send the request\u001b[39;00m\n\u001b[32m--> \u001b[39m\u001b[32m703\u001b[39m r = \u001b[43madapter\u001b[49m\u001b[43m.\u001b[49m\u001b[43msend\u001b[49m\u001b[43m(\u001b[49m\u001b[43mrequest\u001b[49m\u001b[43m,\u001b[49m\u001b[43m \u001b[49m\u001b[43m*\u001b[49m\u001b[43m*\u001b[49m\u001b[43mkwargs\u001b[49m\u001b[43m)\u001b[49m\n\u001b[32m    705\u001b[39m \u001b[38;5;66;03m# Total elapsed time of the request (approximately)\u001b[39;00m\n\u001b[32m    706\u001b[39m elapsed = preferred_clock() - start\n",
      "\u001b[36mFile \u001b[39m\u001b[32m~/Development/github.com/gensyn-ai/testnet-analytics/.venv/lib/python3.13/site-packages/requests/adapters.py:667\u001b[39m, in \u001b[36mHTTPAdapter.send\u001b[39m\u001b[34m(self, request, stream, timeout, verify, cert, proxies)\u001b[39m\n\u001b[32m    664\u001b[39m     timeout = TimeoutSauce(connect=timeout, read=timeout)\n\u001b[32m    666\u001b[39m \u001b[38;5;28;01mtry\u001b[39;00m:\n\u001b[32m--> \u001b[39m\u001b[32m667\u001b[39m     resp = \u001b[43mconn\u001b[49m\u001b[43m.\u001b[49m\u001b[43murlopen\u001b[49m\u001b[43m(\u001b[49m\n\u001b[32m    668\u001b[39m \u001b[43m        \u001b[49m\u001b[43mmethod\u001b[49m\u001b[43m=\u001b[49m\u001b[43mrequest\u001b[49m\u001b[43m.\u001b[49m\u001b[43mmethod\u001b[49m\u001b[43m,\u001b[49m\n\u001b[32m    669\u001b[39m \u001b[43m        \u001b[49m\u001b[43murl\u001b[49m\u001b[43m=\u001b[49m\u001b[43murl\u001b[49m\u001b[43m,\u001b[49m\n\u001b[32m    670\u001b[39m \u001b[43m        \u001b[49m\u001b[43mbody\u001b[49m\u001b[43m=\u001b[49m\u001b[43mrequest\u001b[49m\u001b[43m.\u001b[49m\u001b[43mbody\u001b[49m\u001b[43m,\u001b[49m\n\u001b[32m    671\u001b[39m \u001b[43m        \u001b[49m\u001b[43mheaders\u001b[49m\u001b[43m=\u001b[49m\u001b[43mrequest\u001b[49m\u001b[43m.\u001b[49m\u001b[43mheaders\u001b[49m\u001b[43m,\u001b[49m\n\u001b[32m    672\u001b[39m \u001b[43m        \u001b[49m\u001b[43mredirect\u001b[49m\u001b[43m=\u001b[49m\u001b[38;5;28;43;01mFalse\u001b[39;49;00m\u001b[43m,\u001b[49m\n\u001b[32m    673\u001b[39m \u001b[43m        \u001b[49m\u001b[43massert_same_host\u001b[49m\u001b[43m=\u001b[49m\u001b[38;5;28;43;01mFalse\u001b[39;49;00m\u001b[43m,\u001b[49m\n\u001b[32m    674\u001b[39m \u001b[43m        \u001b[49m\u001b[43mpreload_content\u001b[49m\u001b[43m=\u001b[49m\u001b[38;5;28;43;01mFalse\u001b[39;49;00m\u001b[43m,\u001b[49m\n\u001b[32m    675\u001b[39m \u001b[43m        \u001b[49m\u001b[43mdecode_content\u001b[49m\u001b[43m=\u001b[49m\u001b[38;5;28;43;01mFalse\u001b[39;49;00m\u001b[43m,\u001b[49m\n\u001b[32m    676\u001b[39m \u001b[43m        \u001b[49m\u001b[43mretries\u001b[49m\u001b[43m=\u001b[49m\u001b[38;5;28;43mself\u001b[39;49m\u001b[43m.\u001b[49m\u001b[43mmax_retries\u001b[49m\u001b[43m,\u001b[49m\n\u001b[32m    677\u001b[39m \u001b[43m        \u001b[49m\u001b[43mtimeout\u001b[49m\u001b[43m=\u001b[49m\u001b[43mtimeout\u001b[49m\u001b[43m,\u001b[49m\n\u001b[32m    678\u001b[39m \u001b[43m        \u001b[49m\u001b[43mchunked\u001b[49m\u001b[43m=\u001b[49m\u001b[43mchunked\u001b[49m\u001b[43m,\u001b[49m\n\u001b[32m    679\u001b[39m \u001b[43m    \u001b[49m\u001b[43m)\u001b[49m\n\u001b[32m    681\u001b[39m \u001b[38;5;28;01mexcept\u001b[39;00m (ProtocolError, \u001b[38;5;167;01mOSError\u001b[39;00m) \u001b[38;5;28;01mas\u001b[39;00m err:\n\u001b[32m    682\u001b[39m     \u001b[38;5;28;01mraise\u001b[39;00m \u001b[38;5;167;01mConnectionError\u001b[39;00m(err, request=request)\n",
      "\u001b[36mFile \u001b[39m\u001b[32m~/Development/github.com/gensyn-ai/testnet-analytics/.venv/lib/python3.13/site-packages/urllib3/connectionpool.py:787\u001b[39m, in \u001b[36mHTTPConnectionPool.urlopen\u001b[39m\u001b[34m(self, method, url, body, headers, retries, redirect, assert_same_host, timeout, pool_timeout, release_conn, chunked, body_pos, preload_content, decode_content, **response_kw)\u001b[39m\n\u001b[32m    784\u001b[39m response_conn = conn \u001b[38;5;28;01mif\u001b[39;00m \u001b[38;5;129;01mnot\u001b[39;00m release_conn \u001b[38;5;28;01melse\u001b[39;00m \u001b[38;5;28;01mNone\u001b[39;00m\n\u001b[32m    786\u001b[39m \u001b[38;5;66;03m# Make the request on the HTTPConnection object\u001b[39;00m\n\u001b[32m--> \u001b[39m\u001b[32m787\u001b[39m response = \u001b[38;5;28;43mself\u001b[39;49m\u001b[43m.\u001b[49m\u001b[43m_make_request\u001b[49m\u001b[43m(\u001b[49m\n\u001b[32m    788\u001b[39m \u001b[43m    \u001b[49m\u001b[43mconn\u001b[49m\u001b[43m,\u001b[49m\n\u001b[32m    789\u001b[39m \u001b[43m    \u001b[49m\u001b[43mmethod\u001b[49m\u001b[43m,\u001b[49m\n\u001b[32m    790\u001b[39m \u001b[43m    \u001b[49m\u001b[43murl\u001b[49m\u001b[43m,\u001b[49m\n\u001b[32m    791\u001b[39m \u001b[43m    \u001b[49m\u001b[43mtimeout\u001b[49m\u001b[43m=\u001b[49m\u001b[43mtimeout_obj\u001b[49m\u001b[43m,\u001b[49m\n\u001b[32m    792\u001b[39m \u001b[43m    \u001b[49m\u001b[43mbody\u001b[49m\u001b[43m=\u001b[49m\u001b[43mbody\u001b[49m\u001b[43m,\u001b[49m\n\u001b[32m    793\u001b[39m \u001b[43m    \u001b[49m\u001b[43mheaders\u001b[49m\u001b[43m=\u001b[49m\u001b[43mheaders\u001b[49m\u001b[43m,\u001b[49m\n\u001b[32m    794\u001b[39m \u001b[43m    \u001b[49m\u001b[43mchunked\u001b[49m\u001b[43m=\u001b[49m\u001b[43mchunked\u001b[49m\u001b[43m,\u001b[49m\n\u001b[32m    795\u001b[39m \u001b[43m    \u001b[49m\u001b[43mretries\u001b[49m\u001b[43m=\u001b[49m\u001b[43mretries\u001b[49m\u001b[43m,\u001b[49m\n\u001b[32m    796\u001b[39m \u001b[43m    \u001b[49m\u001b[43mresponse_conn\u001b[49m\u001b[43m=\u001b[49m\u001b[43mresponse_conn\u001b[49m\u001b[43m,\u001b[49m\n\u001b[32m    797\u001b[39m \u001b[43m    \u001b[49m\u001b[43mpreload_content\u001b[49m\u001b[43m=\u001b[49m\u001b[43mpreload_content\u001b[49m\u001b[43m,\u001b[49m\n\u001b[32m    798\u001b[39m \u001b[43m    \u001b[49m\u001b[43mdecode_content\u001b[49m\u001b[43m=\u001b[49m\u001b[43mdecode_content\u001b[49m\u001b[43m,\u001b[49m\n\u001b[32m    799\u001b[39m \u001b[43m    \u001b[49m\u001b[43m*\u001b[49m\u001b[43m*\u001b[49m\u001b[43mresponse_kw\u001b[49m\u001b[43m,\u001b[49m\n\u001b[32m    800\u001b[39m \u001b[43m\u001b[49m\u001b[43m)\u001b[49m\n\u001b[32m    802\u001b[39m \u001b[38;5;66;03m# Everything went great!\u001b[39;00m\n\u001b[32m    803\u001b[39m clean_exit = \u001b[38;5;28;01mTrue\u001b[39;00m\n",
      "\u001b[36mFile \u001b[39m\u001b[32m~/Development/github.com/gensyn-ai/testnet-analytics/.venv/lib/python3.13/site-packages/urllib3/connectionpool.py:534\u001b[39m, in \u001b[36mHTTPConnectionPool._make_request\u001b[39m\u001b[34m(self, conn, method, url, body, headers, retries, timeout, chunked, response_conn, preload_content, decode_content, enforce_content_length)\u001b[39m\n\u001b[32m    532\u001b[39m \u001b[38;5;66;03m# Receive the response from the server\u001b[39;00m\n\u001b[32m    533\u001b[39m \u001b[38;5;28;01mtry\u001b[39;00m:\n\u001b[32m--> \u001b[39m\u001b[32m534\u001b[39m     response = \u001b[43mconn\u001b[49m\u001b[43m.\u001b[49m\u001b[43mgetresponse\u001b[49m\u001b[43m(\u001b[49m\u001b[43m)\u001b[49m\n\u001b[32m    535\u001b[39m \u001b[38;5;28;01mexcept\u001b[39;00m (BaseSSLError, \u001b[38;5;167;01mOSError\u001b[39;00m) \u001b[38;5;28;01mas\u001b[39;00m e:\n\u001b[32m    536\u001b[39m     \u001b[38;5;28mself\u001b[39m._raise_timeout(err=e, url=url, timeout_value=read_timeout)\n",
      "\u001b[36mFile \u001b[39m\u001b[32m~/Development/github.com/gensyn-ai/testnet-analytics/.venv/lib/python3.13/site-packages/urllib3/connection.py:516\u001b[39m, in \u001b[36mHTTPConnection.getresponse\u001b[39m\u001b[34m(self)\u001b[39m\n\u001b[32m    513\u001b[39m _shutdown = \u001b[38;5;28mgetattr\u001b[39m(\u001b[38;5;28mself\u001b[39m.sock, \u001b[33m\"\u001b[39m\u001b[33mshutdown\u001b[39m\u001b[33m\"\u001b[39m, \u001b[38;5;28;01mNone\u001b[39;00m)\n\u001b[32m    515\u001b[39m \u001b[38;5;66;03m# Get the response from http.client.HTTPConnection\u001b[39;00m\n\u001b[32m--> \u001b[39m\u001b[32m516\u001b[39m httplib_response = \u001b[38;5;28;43msuper\u001b[39;49m\u001b[43m(\u001b[49m\u001b[43m)\u001b[49m\u001b[43m.\u001b[49m\u001b[43mgetresponse\u001b[49m\u001b[43m(\u001b[49m\u001b[43m)\u001b[49m\n\u001b[32m    518\u001b[39m \u001b[38;5;28;01mtry\u001b[39;00m:\n\u001b[32m    519\u001b[39m     assert_header_parsing(httplib_response.msg)\n",
      "\u001b[36mFile \u001b[39m\u001b[32m/opt/homebrew/Cellar/python@3.13/3.13.3/Frameworks/Python.framework/Versions/3.13/lib/python3.13/http/client.py:1430\u001b[39m, in \u001b[36mHTTPConnection.getresponse\u001b[39m\u001b[34m(self)\u001b[39m\n\u001b[32m   1428\u001b[39m \u001b[38;5;28;01mtry\u001b[39;00m:\n\u001b[32m   1429\u001b[39m     \u001b[38;5;28;01mtry\u001b[39;00m:\n\u001b[32m-> \u001b[39m\u001b[32m1430\u001b[39m         \u001b[43mresponse\u001b[49m\u001b[43m.\u001b[49m\u001b[43mbegin\u001b[49m\u001b[43m(\u001b[49m\u001b[43m)\u001b[49m\n\u001b[32m   1431\u001b[39m     \u001b[38;5;28;01mexcept\u001b[39;00m \u001b[38;5;167;01mConnectionError\u001b[39;00m:\n\u001b[32m   1432\u001b[39m         \u001b[38;5;28mself\u001b[39m.close()\n",
      "\u001b[36mFile \u001b[39m\u001b[32m/opt/homebrew/Cellar/python@3.13/3.13.3/Frameworks/Python.framework/Versions/3.13/lib/python3.13/http/client.py:331\u001b[39m, in \u001b[36mHTTPResponse.begin\u001b[39m\u001b[34m(self)\u001b[39m\n\u001b[32m    329\u001b[39m \u001b[38;5;66;03m# read until we get a non-100 response\u001b[39;00m\n\u001b[32m    330\u001b[39m \u001b[38;5;28;01mwhile\u001b[39;00m \u001b[38;5;28;01mTrue\u001b[39;00m:\n\u001b[32m--> \u001b[39m\u001b[32m331\u001b[39m     version, status, reason = \u001b[38;5;28;43mself\u001b[39;49m\u001b[43m.\u001b[49m\u001b[43m_read_status\u001b[49m\u001b[43m(\u001b[49m\u001b[43m)\u001b[49m\n\u001b[32m    332\u001b[39m     \u001b[38;5;28;01mif\u001b[39;00m status != CONTINUE:\n\u001b[32m    333\u001b[39m         \u001b[38;5;28;01mbreak\u001b[39;00m\n",
      "\u001b[36mFile \u001b[39m\u001b[32m/opt/homebrew/Cellar/python@3.13/3.13.3/Frameworks/Python.framework/Versions/3.13/lib/python3.13/http/client.py:292\u001b[39m, in \u001b[36mHTTPResponse._read_status\u001b[39m\u001b[34m(self)\u001b[39m\n\u001b[32m    291\u001b[39m \u001b[38;5;28;01mdef\u001b[39;00m\u001b[38;5;250m \u001b[39m\u001b[34m_read_status\u001b[39m(\u001b[38;5;28mself\u001b[39m):\n\u001b[32m--> \u001b[39m\u001b[32m292\u001b[39m     line = \u001b[38;5;28mstr\u001b[39m(\u001b[38;5;28;43mself\u001b[39;49m\u001b[43m.\u001b[49m\u001b[43mfp\u001b[49m\u001b[43m.\u001b[49m\u001b[43mreadline\u001b[49m\u001b[43m(\u001b[49m\u001b[43m_MAXLINE\u001b[49m\u001b[43m \u001b[49m\u001b[43m+\u001b[49m\u001b[43m \u001b[49m\u001b[32;43m1\u001b[39;49m\u001b[43m)\u001b[49m, \u001b[33m\"\u001b[39m\u001b[33miso-8859-1\u001b[39m\u001b[33m\"\u001b[39m)\n\u001b[32m    293\u001b[39m     \u001b[38;5;28;01mif\u001b[39;00m \u001b[38;5;28mlen\u001b[39m(line) > _MAXLINE:\n\u001b[32m    294\u001b[39m         \u001b[38;5;28;01mraise\u001b[39;00m LineTooLong(\u001b[33m\"\u001b[39m\u001b[33mstatus line\u001b[39m\u001b[33m\"\u001b[39m)\n",
      "\u001b[36mFile \u001b[39m\u001b[32m/opt/homebrew/Cellar/python@3.13/3.13.3/Frameworks/Python.framework/Versions/3.13/lib/python3.13/socket.py:719\u001b[39m, in \u001b[36mSocketIO.readinto\u001b[39m\u001b[34m(self, b)\u001b[39m\n\u001b[32m    717\u001b[39m     \u001b[38;5;28;01mraise\u001b[39;00m \u001b[38;5;167;01mOSError\u001b[39;00m(\u001b[33m\"\u001b[39m\u001b[33mcannot read from timed out object\u001b[39m\u001b[33m\"\u001b[39m)\n\u001b[32m    718\u001b[39m \u001b[38;5;28;01mtry\u001b[39;00m:\n\u001b[32m--> \u001b[39m\u001b[32m719\u001b[39m     \u001b[38;5;28;01mreturn\u001b[39;00m \u001b[38;5;28;43mself\u001b[39;49m\u001b[43m.\u001b[49m\u001b[43m_sock\u001b[49m\u001b[43m.\u001b[49m\u001b[43mrecv_into\u001b[49m\u001b[43m(\u001b[49m\u001b[43mb\u001b[49m\u001b[43m)\u001b[49m\n\u001b[32m    720\u001b[39m \u001b[38;5;28;01mexcept\u001b[39;00m timeout:\n\u001b[32m    721\u001b[39m     \u001b[38;5;28mself\u001b[39m._timeout_occurred = \u001b[38;5;28;01mTrue\u001b[39;00m\n",
      "\u001b[36mFile \u001b[39m\u001b[32m/opt/homebrew/Cellar/python@3.13/3.13.3/Frameworks/Python.framework/Versions/3.13/lib/python3.13/ssl.py:1304\u001b[39m, in \u001b[36mSSLSocket.recv_into\u001b[39m\u001b[34m(self, buffer, nbytes, flags)\u001b[39m\n\u001b[32m   1300\u001b[39m     \u001b[38;5;28;01mif\u001b[39;00m flags != \u001b[32m0\u001b[39m:\n\u001b[32m   1301\u001b[39m         \u001b[38;5;28;01mraise\u001b[39;00m \u001b[38;5;167;01mValueError\u001b[39;00m(\n\u001b[32m   1302\u001b[39m           \u001b[33m\"\u001b[39m\u001b[33mnon-zero flags not allowed in calls to recv_into() on \u001b[39m\u001b[38;5;132;01m%s\u001b[39;00m\u001b[33m\"\u001b[39m %\n\u001b[32m   1303\u001b[39m           \u001b[38;5;28mself\u001b[39m.\u001b[34m__class__\u001b[39m)\n\u001b[32m-> \u001b[39m\u001b[32m1304\u001b[39m     \u001b[38;5;28;01mreturn\u001b[39;00m \u001b[38;5;28;43mself\u001b[39;49m\u001b[43m.\u001b[49m\u001b[43mread\u001b[49m\u001b[43m(\u001b[49m\u001b[43mnbytes\u001b[49m\u001b[43m,\u001b[49m\u001b[43m \u001b[49m\u001b[43mbuffer\u001b[49m\u001b[43m)\u001b[49m\n\u001b[32m   1305\u001b[39m \u001b[38;5;28;01melse\u001b[39;00m:\n\u001b[32m   1306\u001b[39m     \u001b[38;5;28;01mreturn\u001b[39;00m \u001b[38;5;28msuper\u001b[39m().recv_into(buffer, nbytes, flags)\n",
      "\u001b[36mFile \u001b[39m\u001b[32m/opt/homebrew/Cellar/python@3.13/3.13.3/Frameworks/Python.framework/Versions/3.13/lib/python3.13/ssl.py:1138\u001b[39m, in \u001b[36mSSLSocket.read\u001b[39m\u001b[34m(self, len, buffer)\u001b[39m\n\u001b[32m   1136\u001b[39m \u001b[38;5;28;01mtry\u001b[39;00m:\n\u001b[32m   1137\u001b[39m     \u001b[38;5;28;01mif\u001b[39;00m buffer \u001b[38;5;129;01mis\u001b[39;00m \u001b[38;5;129;01mnot\u001b[39;00m \u001b[38;5;28;01mNone\u001b[39;00m:\n\u001b[32m-> \u001b[39m\u001b[32m1138\u001b[39m         \u001b[38;5;28;01mreturn\u001b[39;00m \u001b[38;5;28;43mself\u001b[39;49m\u001b[43m.\u001b[49m\u001b[43m_sslobj\u001b[49m\u001b[43m.\u001b[49m\u001b[43mread\u001b[49m\u001b[43m(\u001b[49m\u001b[38;5;28;43mlen\u001b[39;49m\u001b[43m,\u001b[49m\u001b[43m \u001b[49m\u001b[43mbuffer\u001b[49m\u001b[43m)\u001b[49m\n\u001b[32m   1139\u001b[39m     \u001b[38;5;28;01melse\u001b[39;00m:\n\u001b[32m   1140\u001b[39m         \u001b[38;5;28;01mreturn\u001b[39;00m \u001b[38;5;28mself\u001b[39m._sslobj.read(\u001b[38;5;28mlen\u001b[39m)\n",
      "\u001b[31mKeyboardInterrupt\u001b[39m: "
     ]
    }
   ],
   "source": [
    "block_number = 2714870\n",
    "#               2708082\n",
    "\n",
    "import time\n",
    "\n",
    "# global average\n",
    "ga = 0\n",
    "\n",
    "# Alpha for EMA\n",
    "alpha = 0.3\n",
    "\n",
    "while True:\n",
    "    block = w3.eth.get_block(block_number, True)\n",
    "    average = averageFee(filterTxs(block.transactions))\n",
    "    if average > 1000000000:\n",
    "        print(\"Over 1 Gwei\", block_number, average)\n",
    "\n",
    "    if ga == 0:\n",
    "        ga = average\n",
    "    else:\n",
    "        # Calculate exponential moving average\n",
    "        ga = int(alpha * average + (1 - alpha) * ga)\n",
    "        \n",
    "    if average > (ga * 1.3):\n",
    "        print(\"Over global average\", block_number)\n",
    "        print(\"average =\", Web3.from_wei(average, \"gwei\"), \"GWei\")\n",
    "        print(\"global EMA =\", Web3.from_wei(ga, \"gwei\"), \"GWei\")\n",
    "        print(\"increase = \", (average - ga) * 100 / ga, \"%\")\n",
    "        print(\"---\")\n",
    "\n",
    "    block_number += 1\n",
    "    time.sleep(0.01)"
   ]
  },
  {
   "cell_type": "code",
   "execution_count": 63,
   "id": "38e64c08-eb4e-467c-962c-af7455703634",
   "metadata": {},
   "outputs": [
    {
     "data": {
      "text/plain": [
       "2714870"
      ]
     },
     "execution_count": 63,
     "metadata": {},
     "output_type": "execute_result"
    }
   ],
   "source": [
    "block_number"
   ]
  },
  {
   "cell_type": "code",
   "execution_count": 64,
   "id": "b545d868-bc05-466d-b2b6-636ce407502d",
   "metadata": {},
   "outputs": [
    {
     "data": {
      "text/plain": [
       "100000"
      ]
     },
     "execution_count": 64,
     "metadata": {},
     "output_type": "execute_result"
    }
   ],
   "source": [
    "w3.to_wei(\"0.0001\", \"gwei\")"
   ]
  },
  {
   "cell_type": "code",
   "execution_count": 68,
   "id": "35706a6f-c8da-448b-9b04-220fdcc731c0",
   "metadata": {},
   "outputs": [
    {
     "data": {
      "text/plain": [
       "Decimal('2.024835831')"
      ]
     },
     "execution_count": 68,
     "metadata": {},
     "output_type": "execute_result"
    }
   ],
   "source": [
    "w3.from_wei(0x78b08af7, \"gwei\")"
   ]
  },
  {
   "cell_type": "code",
   "execution_count": 80,
   "id": "d3a587fb-a369-4d31-9830-db0c8b369ba5",
   "metadata": {},
   "outputs": [
    {
     "data": {
      "text/plain": [
       "2670954363"
      ]
     },
     "execution_count": 80,
     "metadata": {},
     "output_type": "execute_result"
    }
   ],
   "source": [
    "w3.eth.gas_price"
   ]
  },
  {
   "cell_type": "code",
   "execution_count": 82,
   "id": "09bed754-1ad2-4946-8f4f-97b152064882",
   "metadata": {},
   "outputs": [
    {
     "data": {
      "text/plain": [
       "AttributeDict({'oldestBlock': 2850436,\n",
       " 'baseFeePerGas': [2107680998,\n",
       "  2099324259,\n",
       "  2091000654,\n",
       "  2082710051,\n",
       "  2074452319,\n",
       "  2066227328,\n",
       "  2058034949,\n",
       "  2049888882,\n",
       "  2041761303,\n",
       "  2033665949,\n",
       "  2025602692],\n",
       " 'gasUsedRatio': [0.0014626,\n",
       "  0.0014626,\n",
       "  0.0014626,\n",
       "  0.0014626,\n",
       "  0.0014626,\n",
       "  0.0014626,\n",
       "  0.0017426,\n",
       "  0.001463,\n",
       "  0.001463,\n",
       "  0.001463],\n",
       " 'baseFeePerBlobGas': ['0x1',\n",
       "  '0x1',\n",
       "  '0x1',\n",
       "  '0x1',\n",
       "  '0x1',\n",
       "  '0x1',\n",
       "  '0x1',\n",
       "  '0x1',\n",
       "  '0x1',\n",
       "  '0x1',\n",
       "  '0x1'],\n",
       " 'blobGasUsedRatio': [0, 0, 0, 0, 0, 0, 0, 0, 0, 0]})"
      ]
     },
     "execution_count": 82,
     "metadata": {},
     "output_type": "execute_result"
    }
   ],
   "source": [
    "w3.eth.fee_history(10, 'latest')"
   ]
  }
 ],
 "metadata": {
  "kernelspec": {
   "display_name": "Python 3 (ipykernel)",
   "language": "python",
   "name": "python3"
  },
  "language_info": {
   "codemirror_mode": {
    "name": "ipython",
    "version": 3
   },
   "file_extension": ".py",
   "mimetype": "text/x-python",
   "name": "python",
   "nbconvert_exporter": "python",
   "pygments_lexer": "ipython3",
   "version": "3.13.3"
  }
 },
 "nbformat": 4,
 "nbformat_minor": 5
}
